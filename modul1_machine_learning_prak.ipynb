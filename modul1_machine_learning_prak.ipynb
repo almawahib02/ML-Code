{
 "cells": [
  {
   "attachments": {},
   "cell_type": "markdown",
   "metadata": {},
   "source": [
    "|Nama|Zulfa Sulthany Almawahib|\n",
    "|----|------------------------|\n",
    "|NRP |152020096|\n"
   ]
  },
  {
   "attachments": {},
   "cell_type": "markdown",
   "metadata": {},
   "source": [
    "# **Modul 1 Pandas**"
   ]
  },
  {
   "attachments": {},
   "cell_type": "markdown",
   "metadata": {},
   "source": [
    "## **Contoh 1.1: Tipe data Pandas Series** "
   ]
  },
  {
   "cell_type": "code",
   "execution_count": null,
   "metadata": {},
   "outputs": [
    {
     "name": "stdout",
     "output_type": "stream",
     "text": [
      "[1, 7, 2]\n",
      "<class 'list'>\n",
      "<class 'pandas.core.series.Series'>\n",
      "int64\n",
      "1\n",
      "2\n",
      "7\n",
      "Data Series\n",
      "0    1\n",
      "1    7\n",
      "2    2\n",
      "dtype: int64\n"
     ]
    }
   ],
   "source": [
    "import pandas as pd # library pandas disingkat menjadi pd\n",
    "\n",
    "data = [1, 7, 2] # memberikan nilai data dengan nilai 1, 7, 2\n",
    "print(data) # mencetak isi data, yaitu [1, 7, 2]\n",
    "print(type(data)) # mencetak informasi tentang type data yang digunakan oleh variable data\n",
    "\n",
    "my_series = pd.Series(data) # membuat variabel baru untuk membuat array berlabel dengan 1 dimensional untuk variabel data\n",
    "print(type(my_series)) # mencetak informasi tentang tipe data yang dimiliki oleh variable my_series\n",
    "print(my_series.dtype) # mencetak tipe data yang dimiliki oleh data Series\n",
    "print(my_series[0]) # mengambil element my_series untuk indeks ke 0 yaitu 1\n",
    "print(my_series[2]) # mengambil element my_series untuk indeks ke 2 yaitu 2\n",
    "print(my_series[1]) # mengambil element my_series untuk indeks ke 1 yaitu 7\n",
    "print('Data Series')\n",
    "print(my_series) # menampilkan my_series"
   ]
  },
  {
   "attachments": {},
   "cell_type": "markdown",
   "metadata": {},
   "source": [
    "## **Contoh 1.2: Pandas Series dari Array**"
   ]
  },
  {
   "cell_type": "code",
   "execution_count": null,
   "metadata": {},
   "outputs": [
    {
     "name": "stdout",
     "output_type": "stream",
     "text": [
      "['python' 'java' 'php']\n",
      "0    python\n",
      "1      java\n",
      "2       php\n",
      "dtype: object\n"
     ]
    }
   ],
   "source": [
    "import pandas as pd # library pandas disingkat menjadi pd\n",
    "import numpy as np # library numpy disingkat menjadi np\n",
    "\n",
    "data = np.array(['python', 'java', 'php']) # memasukan nilai data dengan menggunakan np.array() yang nilainya adalah ‘python’, ‘java’, dan ‘php’\n",
    "print(data) # mencetak variabel data di atas\n",
    "series = pd.Series(data) # mengkonversi data dengan tipe data array menjadi data series menggunakan pandas Series\n",
    "print(series) # mencetak variabel series"
   ]
  },
  {
   "attachments": {},
   "cell_type": "markdown",
   "metadata": {},
   "source": [
    "## **Contoh 1.3: Pandas Series dari array dengan pemberian label**"
   ]
  },
  {
   "cell_type": "code",
   "execution_count": null,
   "metadata": {},
   "outputs": [
    {
     "name": "stdout",
     "output_type": "stream",
     "text": [
      "r1    python\n",
      "r2      java\n",
      "r3       php\n",
      "dtype: object\n"
     ]
    }
   ],
   "source": [
    "import pandas as pd # library pandas disingkat menjadi pd\n",
    "import numpy as np # library numpy disingkat menjadi np\n",
    "\n",
    "data = np.array(['python', 'java', 'php']) # memasukan nilai data dengan menggunakan np.array() yang nilainya adalah ‘python’, ‘java’, dan ‘php’\n",
    "s2 = pd.Series(data=data, index=['r1', 'r2', 'r3']) # proses konversi data array ke Series dengan nilai indeks tertentu, yaitu ‘r1’, ‘r2’, dan ‘r3’\n",
    "print(s2) # mencetak variabel s2"
   ]
  },
  {
   "attachments": {},
   "cell_type": "markdown",
   "metadata": {},
   "source": [
    "## **Contoh 1.4: Pandas Series dari list**"
   ]
  },
  {
   "cell_type": "code",
   "execution_count": 7,
   "metadata": {},
   "outputs": [
    {
     "name": "stdout",
     "output_type": "stream",
     "text": [
      "r1     Pandas\n",
      "r2     250000\n",
      "r3    30 hari\n",
      "dtype: object\n"
     ]
    }
   ],
   "source": [
    "import pandas as pd # library pandas disingkat menjadi pd\n",
    "\n",
    "data = ['Pandas', 250000, '30 hari'] # mendaftarkan nilai untuk isi dari variabel data \n",
    "s2 = pd.Series(data=data, index=['r1', 'r2', 'r3']) # mengkonversi data list ke dalam Series dengan nilai indeks yang telah ditentukan\n",
    "print(s2) # mencetak data s2"
   ]
  },
  {
   "attachments": {},
   "cell_type": "markdown",
   "metadata": {},
   "source": [
    "## **Contoh 1.5: Pandas Series dari dict**"
   ]
  },
  {
   "cell_type": "code",
   "execution_count": 8,
   "metadata": {},
   "outputs": [
    {
     "name": "stdout",
     "output_type": "stream",
     "text": [
      "kursus     Pandas\n",
      "biaya      200000\n",
      "lama      30 hari\n",
      "dtype: object\n"
     ]
    }
   ],
   "source": [
    "import pandas as pd # library pandas disingkat menjadi pd\n",
    "\n",
    "data = {'kursus': 'Pandas', 'biaya':200000, 'lama': '30 hari'} # mendaftarkan pasangan key dan value dict pada data\n",
    "s2 = pd.Series(data=data) # mengkonversi data dict kedalam bentuk Series\n",
    "print(s2) #menampilkan hasil dict yang telah di konversi ke series"
   ]
  },
  {
   "attachments": {},
   "cell_type": "markdown",
   "metadata": {},
   "source": [
    "## **Contoh 1.6: Pandas Series berdasarkan key tertentu dict**"
   ]
  },
  {
   "cell_type": "code",
   "execution_count": 10,
   "metadata": {},
   "outputs": [
    {
     "name": "stdout",
     "output_type": "stream",
     "text": [
      "kursus    Pandas\n",
      "biaya     200000\n",
      "dtype: object\n",
      "Data ke-0 adalah  Pandas\n",
      "Data ke-1 adalah  200000\n"
     ]
    }
   ],
   "source": [
    "import pandas as pd # library pandas disingkat menjadi pd\n",
    "\n",
    "data = {'kursus': 'Pandas', 'biaya':200000, 'lama': '30 hari'}\n",
    "s = pd.Series(data=data, index = ['kursus', 'biaya'])\n",
    "print(s)\n",
    "print('Data ke-0 adalah ', s[0])\n",
    "print('Data ke-1 adalah ', s[1])"
   ]
  },
  {
   "attachments": {},
   "cell_type": "markdown",
   "metadata": {},
   "source": [
    "## **Contoh 1.7: Pandas Series dari DataFrame**"
   ]
  },
  {
   "cell_type": "code",
   "execution_count": 12,
   "metadata": {},
   "outputs": [
    {
     "name": "stdout",
     "output_type": "stream",
     "text": [
      "    nama  umur\n",
      "0   Amir    23\n",
      "1   Rudi    21\n",
      "2  Andon    24\n",
      "3  Wahyu    21\n",
      "Data Series Nama\n",
      "0     Amir\n",
      "1     Rudi\n",
      "2    Andon\n",
      "3    Wahyu\n",
      "Name: nama, dtype: object\n"
     ]
    }
   ],
   "source": [
    "import pandas as pd # library pandas disingkat menjadi pd\n",
    "\n",
    "df = pd.DataFrame({\n",
    "    'nama' : ['Amir', 'Rudi', 'Andon', 'Wahyu'],\n",
    "    'umur' : [23, 21, 24, 21]\n",
    "})\n",
    "print(df)\n",
    "s = df['nama'].squeeze()\n",
    "print('Data Series Nama')\n",
    "print(s)"
   ]
  },
  {
   "attachments": {},
   "cell_type": "markdown",
   "metadata": {},
   "source": [
    "## **Contoh 1.8: Pembentukan DataFrame dari satu data Series**"
   ]
  },
  {
   "cell_type": "code",
   "execution_count": 14,
   "metadata": {},
   "outputs": [
    {
     "name": "stdout",
     "output_type": "stream",
     "text": [
      "  nama kursus\n",
      "0        Java\n",
      "1         PHP\n",
      "2      Python\n",
      "3        Dart\n"
     ]
    }
   ],
   "source": [
    "import pandas as pd # library pandas disingkat menjadi pd\n",
    "\n",
    "kursus = pd.Series(['Java', 'PHP', 'Python', 'Dart'], name='nama kursus')\n",
    "df = pd.DataFrame(kursus)\n",
    "print(df)"
   ]
  },
  {
   "attachments": {},
   "cell_type": "markdown",
   "metadata": {},
   "source": [
    "## **Contoh 1.9: Pembentukan DataFrame dari kumpulan data Series**"
   ]
  },
  {
   "cell_type": "code",
   "execution_count": 15,
   "metadata": {},
   "outputs": [
    {
     "name": "stdout",
     "output_type": "stream",
     "text": [
      "  nama kursus lama_waktu   biaya\n",
      "0        Java      2 jam  250000\n",
      "1         PHP      3 jam  300000\n",
      "2      Python      4 jam  150000\n",
      "3        Dart      5 jam  350000\n"
     ]
    }
   ],
   "source": [
    "import pandas as pd # library pandas disingkat menjadi pd\n",
    "\n",
    "kursus = pd.Series(['Java', 'PHP', 'Python', 'Dart'], name='nama kursus')\n",
    "biaya = pd.Series([250000, 300000, 150000, 350000], name='biaya')\n",
    "lama = pd.Series(['2 jam', \"3 jam\", '4 jam', '5 jam'], name='lama_waktu')\n",
    "df = pd.concat([kursus, lama, biaya], axis=1)\n",
    "print(df)"
   ]
  },
  {
   "attachments": {},
   "cell_type": "markdown",
   "metadata": {},
   "source": [
    "# **Tabel 1.1**\n",
    "|no|Method|Keterangan|\n",
    "|--|----------------|--------------------------------------------|\n",
    "|1|abs()|Mengembalikan nilai absolut untuk setiap elemen numerik|\n",
    "|2|add()|Mengembalikan hasil penjumlahan data series pertama dengan data series kedua|\n",
    "|3|append()|Menggabungkan data series pertama dengan data series ke dua|\n",
    "|4|argmax()|Mengembalikan index data series dengan nilai maksimum pertama|\n",
    "|5|argmin()|Mengembalikan index data series dengan nilai minimum pertama|\n",
    "|6|argsort()|Mengembalikan index data series yang nilai datanya telah diurutkan dari terkecil ke terbesar|\n",
    "|7|copy()|Melakukan copy data series|\n",
    "|8|count()|Mengembalikan jumlah data series yang tidak memiliki null|\n",
    "|9|cov()|Menghitung nilai covariance dari dua data series|\n",
    "|10|div()|Mengembalikan hasil bagi data series pertama dengan data series kedua|\n",
    "|11|dot()|Mengembalikan hasil perkalian titik antara dua data series|\n",
    "|12|drop(labels = [‘index’])|Menghapus elemen data series pada label ‘index’ tertentu|\n",
    "|13|drop_duplicates()|Menghapus setiap elemen data series yang ganda atau ganda|\n",
    "|14|dropna()|Mengembalikan data series yang telah dihapus atau dibuang data yang mengandung missing value|\n",
    "|15|duplicated()|Menentukan apakah nilai elemen suatu data series ada yang nilainya sama yang dikembalikan dalam nilai boolean|\n",
    "|16|idmax()|Mengembalikan index data series yang mengandung nilai maksimum pertama|\n",
    "|17|idmin()|Mengembalikan index data series yang mengandung nilai minimum pertama|\n",
    "|18|isin([val])|Mengembalikan nilai Boolean kesamaan nilai setiap data series|\n",
    "|19|isna()|Menentukan atau menguji apakah nilai suatu data series mengandung suatu nilai missing value. Jika nilai missing value akan mengembalikan nilai True.|\n",
    "|20|isnull()|Menentukan atau menguji apakah nilainya suatu nilai missing value|\n",
    "|21|max()|Mengembalikan nilai maksimum dari data series|\n",
    "|22|mean()|Menghitung nilai rata-rata data series dan dikembalikan dalam tipe data float|\n",
    "|23|median()|Mengembalikan nilai tengah data series setelah datanya diurutkan mulai terkecil ke terbesar|\n",
    "|24|min()|Mengembalikan nilai minimum dari data series|\n",
    "|25|mod()|Mengembalikan hasil sisa bagi dari data series pertama dengan data series kedua|\n",
    "|26|mul()|Mengembalikan hasil kali data series pertama dengan data series kedua|\n",
    "|27|notna()|Mengembalikan nilai Boolean tidak adanya nilai data series yang memiliki missing value. Method memberikan nilai true jika nilai data series bukan null.|\n",
    "|28|nunique()|Mengembalikan banyaknya bilangan unik.|\n",
    "|29|pop(item=’index’)|Mengembalikan elemen pada index ke ‘index’ kemudian mengeluarkan elemen ke ‘index’ dari data series|\n",
    "|30|pow()|Mengembalikan hasil pangkat dari data series pertama dengan data series kedua|\n",
    "|31|replace(x, val)|Menggantikan data series ke-x dengan nilai val|\n",
    "|32|sort_values()|Mengurutkan elemen data series dengan default nilai menaik. Untuk nilai menurun menggunakan parameter ascending = False|\n",
    "|33|std()|Menghitung nilai standar deviasi dari suatu data series|\n",
    "|34|sub()|Mengembalikan hasil selisi data series pertama dengan data series kedua|\n",
    "|35|sum()|Menghitung jumlah totak data|\n",
    "|36|to_dict()|Mengkonversi data series kedalam bentuk dict|\n",
    "|37|tolist()|Mengkonversi data series kedalam bentuk list|"
   ]
  },
  {
   "attachments": {},
   "cell_type": "markdown",
   "metadata": {},
   "source": [
    "# **Contoh Program Sederhana dari tabel 1.1**"
   ]
  },
  {
   "cell_type": "code",
   "execution_count": 18,
   "metadata": {},
   "outputs": [
    {
     "name": "stdout",
     "output_type": "stream",
     "text": [
      "   A  B\n",
      "0  1  4\n",
      "1  2  5\n",
      "2  3  6\n"
     ]
    }
   ],
   "source": [
    "import pandas as pd\n",
    "\n",
    "df = pd.DataFrame({'A': [-1, 2, -3], 'B': [4, -5, 6]})\n",
    "df_abs = abs(df)\n",
    "print(df_abs)"
   ]
  },
  {
   "cell_type": "code",
   "execution_count": 16,
   "metadata": {},
   "outputs": [
    {
     "name": "stdout",
     "output_type": "stream",
     "text": [
      "   A   B\n",
      "0  6  10\n",
      "1  8  12\n"
     ]
    }
   ],
   "source": [
    "import pandas as pd\n",
    "\n",
    "df1 = pd.DataFrame({'A': [1, 2], 'B': [3, 4]})\n",
    "df2 = pd.DataFrame({'A': [5, 6], 'B': [7, 8]})\n",
    "df3 = df1.add(df2)\n",
    "print(df3)"
   ]
  },
  {
   "cell_type": "code",
   "execution_count": 17,
   "metadata": {},
   "outputs": [
    {
     "name": "stdout",
     "output_type": "stream",
     "text": [
      "   A  B\n",
      "0  1  3\n",
      "1  2  4\n",
      "0  5  7\n",
      "1  6  8\n"
     ]
    },
    {
     "name": "stderr",
     "output_type": "stream",
     "text": [
      "C:\\Users\\Sulthany\\AppData\\Local\\Temp\\ipykernel_14116\\2705247620.py:5: FutureWarning: The frame.append method is deprecated and will be removed from pandas in a future version. Use pandas.concat instead.\n",
      "  df3 = df1.append(df2)\n"
     ]
    }
   ],
   "source": [
    "import pandas as pd\n",
    "\n",
    "df1 = pd.DataFrame({'A': [1, 2], 'B': [3, 4]})\n",
    "df2 = pd.DataFrame({'A': [5, 6], 'B': [7, 8]})\n",
    "df3 = df1.append(df2)\n",
    "print(df3)"
   ]
  },
  {
   "cell_type": "code",
   "execution_count": 21,
   "metadata": {},
   "outputs": [
    {
     "name": "stdout",
     "output_type": "stream",
     "text": [
      "4\n",
      "0\n"
     ]
    }
   ],
   "source": [
    "import pandas as pd\n",
    "\n",
    "s = pd.Series([1, 2, 3, 4, 5])\n",
    "print(s.argmax())\n",
    "print(s.argmin())"
   ]
  },
  {
   "cell_type": "code",
   "execution_count": 23,
   "metadata": {},
   "outputs": [
    {
     "name": "stdout",
     "output_type": "stream",
     "text": [
      "0    1\n",
      "1    3\n",
      "2    0\n",
      "3    2\n",
      "4    4\n",
      "dtype: int64\n"
     ]
    }
   ],
   "source": [
    "import pandas as pd\n",
    "\n",
    "s = pd.Series([3, 1, 4, 2, 5])\n",
    "print(s.argsort())\n"
   ]
  },
  {
   "cell_type": "code",
   "execution_count": 24,
   "metadata": {},
   "outputs": [
    {
     "name": "stdout",
     "output_type": "stream",
     "text": [
      "   A  B\n",
      "0  1  3\n",
      "1  2  4\n"
     ]
    }
   ],
   "source": [
    "import pandas as pd\n",
    "\n",
    "df1 = pd.DataFrame({'A': [1, 2], 'B': [3, 4]})\n",
    "df2 = df1.copy()\n",
    "print(df2)"
   ]
  },
  {
   "cell_type": "code",
   "execution_count": 25,
   "metadata": {},
   "outputs": [
    {
     "name": "stdout",
     "output_type": "stream",
     "text": [
      "A    2\n",
      "B    1\n",
      "C    3\n",
      "dtype: int64\n"
     ]
    }
   ],
   "source": [
    "import pandas as pd\n",
    "\n",
    "df = pd.DataFrame({'A': [1, 2, None], 'B': [3, None, None], 'C': [4, 5, 6]})\n",
    "print(df.count())"
   ]
  },
  {
   "cell_type": "code",
   "execution_count": 26,
   "metadata": {},
   "outputs": [
    {
     "name": "stdout",
     "output_type": "stream",
     "text": [
      "     A    B\n",
      "A  1.0  1.0\n",
      "B  1.0  1.0\n"
     ]
    }
   ],
   "source": [
    "import pandas as pd\n",
    "\n",
    "df = pd.DataFrame({'A': [1, 2, 3], 'B': [4, 5, 6]})\n",
    "print(df.cov())"
   ]
  },
  {
   "cell_type": "code",
   "execution_count": 29,
   "metadata": {},
   "outputs": [
    {
     "name": "stdout",
     "output_type": "stream",
     "text": [
      "          A         B\n",
      "0  0.200000  0.428571\n",
      "1  0.333333  0.500000\n"
     ]
    }
   ],
   "source": [
    "import pandas as pd\n",
    "\n",
    "df1 = pd.DataFrame({'A': [1, 2], 'B': [3, 4]})\n",
    "df2 = pd.DataFrame({'A': [5, 6], 'B': [7, 8]})\n",
    "df3 = df1.div(df2)\n",
    "print(df3)"
   ]
  },
  {
   "cell_type": "code",
   "execution_count": 28,
   "metadata": {},
   "outputs": [
    {
     "name": "stdout",
     "output_type": "stream",
     "text": [
      "    0   1\n",
      "0  26  30\n",
      "1  38  44\n"
     ]
    }
   ],
   "source": [
    "import pandas as pd\n",
    "\n",
    "df1 = pd.DataFrame({'A': [1, 2], 'B': [3, 4]})\n",
    "df2 = pd.DataFrame({'A': [5, 6], 'B': [7, 8]})\n",
    "result = df1.dot(df2.T)\n",
    "print(result)"
   ]
  },
  {
   "cell_type": "code",
   "execution_count": 30,
   "metadata": {},
   "outputs": [
    {
     "name": "stdout",
     "output_type": "stream",
     "text": [
      "   B  C\n",
      "0  3  5\n",
      "1  4  6\n"
     ]
    }
   ],
   "source": [
    "import pandas as pd\n",
    "\n",
    "df = pd.DataFrame({'A': [1, 2], 'B': [3, 4], 'C': [5, 6]})\n",
    "df2 = df.drop(labels=['A'], axis=1)\n",
    "print(df2)"
   ]
  },
  {
   "cell_type": "code",
   "execution_count": 31,
   "metadata": {},
   "outputs": [
    {
     "name": "stdout",
     "output_type": "stream",
     "text": [
      "   A  B\n",
      "0  1  3\n",
      "1  1  4\n",
      "2  2  4\n",
      "3  2  5\n"
     ]
    }
   ],
   "source": [
    "import pandas as pd\n",
    "\n",
    "df = pd.DataFrame({'A': [1, 1, 2, 2], 'B': [3, 4, 4, 5]})\n",
    "df2 = df.drop_duplicates()\n",
    "print(df2)"
   ]
  },
  {
   "cell_type": "code",
   "execution_count": 32,
   "metadata": {},
   "outputs": [
    {
     "name": "stdout",
     "output_type": "stream",
     "text": [
      "     A    B  C\n",
      "2  2.0  4.0  7\n"
     ]
    }
   ],
   "source": [
    "import pandas as pd\n",
    "\n",
    "df = pd.DataFrame({'A': [1, None, 2], 'B': [None, 3, 4], 'C': [5, 6, 7]})\n",
    "df2 = df.dropna()\n",
    "print(df2)"
   ]
  },
  {
   "cell_type": "code",
   "execution_count": 33,
   "metadata": {},
   "outputs": [
    {
     "name": "stdout",
     "output_type": "stream",
     "text": [
      "0    False\n",
      "1    False\n",
      "2    False\n",
      "3    False\n",
      "dtype: bool\n"
     ]
    }
   ],
   "source": [
    "import pandas as pd\n",
    "\n",
    "df = pd.DataFrame({'A': [1, 1, 2, 3], 'B': [4, 5, 6, 6]})\n",
    "duplicates = df.duplicated()\n",
    "print(duplicates)"
   ]
  },
  {
   "cell_type": "code",
   "execution_count": 35,
   "metadata": {},
   "outputs": [
    {
     "name": "stdout",
     "output_type": "stream",
     "text": [
      "4\n",
      "0\n"
     ]
    }
   ],
   "source": [
    "import pandas as pd\n",
    "\n",
    "s = pd.Series([1, 2, 3, 4, 5])\n",
    "print(s.idxmax())\n",
    "print(s.idxmin())"
   ]
  },
  {
   "cell_type": "code",
   "execution_count": 36,
   "metadata": {},
   "outputs": [
    {
     "name": "stdout",
     "output_type": "stream",
     "text": [
      "0    False\n",
      "1     True\n",
      "2    False\n",
      "3     True\n",
      "4    False\n",
      "dtype: bool\n"
     ]
    }
   ],
   "source": [
    "import pandas as pd\n",
    "\n",
    "s = pd.Series([1, 2, 3, 4, 5])\n",
    "print(s.isin([2, 4, 6]))"
   ]
  },
  {
   "cell_type": "code",
   "execution_count": 37,
   "metadata": {},
   "outputs": [
    {
     "name": "stdout",
     "output_type": "stream",
     "text": [
      "       A      B      C\n",
      "0  False   True  False\n",
      "1   True  False  False\n",
      "2  False  False   True\n",
      "       A      B      C\n",
      "0  False   True  False\n",
      "1   True  False  False\n",
      "2  False  False   True\n"
     ]
    }
   ],
   "source": [
    "import pandas as pd\n",
    "\n",
    "df = pd.DataFrame({'A': [1, None, 2], 'B': [None, 3, 4], 'C': [5, 6, None]})\n",
    "print(df.isna())\n",
    "print(df.isnull())"
   ]
  },
  {
   "cell_type": "code",
   "execution_count": 38,
   "metadata": {},
   "outputs": [
    {
     "name": "stdout",
     "output_type": "stream",
     "text": [
      "5\n",
      "1\n"
     ]
    }
   ],
   "source": [
    "import pandas as pd\n",
    "\n",
    "s = pd.Series([1, 2, 3, 4, 5])\n",
    "print(s.max())\n",
    "print(s.min())"
   ]
  },
  {
   "cell_type": "code",
   "execution_count": 39,
   "metadata": {},
   "outputs": [
    {
     "name": "stdout",
     "output_type": "stream",
     "text": [
      "3.0\n",
      "3.0\n"
     ]
    }
   ],
   "source": [
    "import pandas as pd\n",
    "\n",
    "s = pd.Series([1, 2, 3, 4, 5])\n",
    "print(s.mean())\n",
    "print(s.median())"
   ]
  },
  {
   "cell_type": "code",
   "execution_count": 40,
   "metadata": {},
   "outputs": [
    {
     "name": "stdout",
     "output_type": "stream",
     "text": [
      "   A  B\n",
      "0  1  3\n",
      "1  2  4\n"
     ]
    }
   ],
   "source": [
    "import pandas as pd\n",
    "\n",
    "df1 = pd.DataFrame({'A': [1, 2], 'B': [3, 4]})\n",
    "df2 = pd.DataFrame({'A': [5, 6], 'B': [7, 8]})\n",
    "df3 = df1.mod(df2)\n",
    "print(df3)"
   ]
  },
  {
   "cell_type": "code",
   "execution_count": 41,
   "metadata": {},
   "outputs": [
    {
     "name": "stdout",
     "output_type": "stream",
     "text": [
      "    A   B\n",
      "0   5  21\n",
      "1  12  32\n"
     ]
    }
   ],
   "source": [
    "import pandas as pd\n",
    "\n",
    "df1 = pd.DataFrame({'A': [1, 2], 'B': [3, 4]})\n",
    "df2 = pd.DataFrame({'A': [5, 6], 'B': [7, 8]})\n",
    "df3 = df1.mul(df2)\n",
    "print(df3)"
   ]
  },
  {
   "cell_type": "code",
   "execution_count": 42,
   "metadata": {},
   "outputs": [
    {
     "name": "stdout",
     "output_type": "stream",
     "text": [
      "       A      B      C\n",
      "0   True  False   True\n",
      "1  False   True   True\n",
      "2   True   True  False\n"
     ]
    }
   ],
   "source": [
    "import pandas as pd\n",
    "\n",
    "df = pd.DataFrame({'A': [1, None, 2], 'B': [None, 3, 4], 'C': [5, 6, None]})\n",
    "print(df.notna())"
   ]
  },
  {
   "cell_type": "code",
   "execution_count": 43,
   "metadata": {},
   "outputs": [
    {
     "name": "stdout",
     "output_type": "stream",
     "text": [
      "5\n"
     ]
    }
   ],
   "source": [
    "import pandas as pd\n",
    "\n",
    "s = pd.Series([1, 2, 3, 4, 5, 5])\n",
    "print(s.nunique())"
   ]
  },
  {
   "cell_type": "code",
   "execution_count": 44,
   "metadata": {},
   "outputs": [
    {
     "name": "stdout",
     "output_type": "stream",
     "text": [
      "0    1\n",
      "1    2\n",
      "Name: A, dtype: int64\n"
     ]
    }
   ],
   "source": [
    "import pandas as pd\n",
    "\n",
    "df = pd.DataFrame({'A': [1, 2], 'B': [3, 4]})\n",
    "col = df.pop('A')\n",
    "print(col)"
   ]
  },
  {
   "cell_type": "code",
   "execution_count": 45,
   "metadata": {},
   "outputs": [
    {
     "name": "stdout",
     "output_type": "stream",
     "text": [
      "    A      B\n",
      "0   1   2187\n",
      "1  64  65536\n"
     ]
    }
   ],
   "source": [
    "import pandas as pd\n",
    "\n",
    "df1 = pd.DataFrame({'A': [1, 2], 'B': [3, 4]})\n",
    "df2 = pd.DataFrame({'A': [5, 6], 'B': [7, 8]})\n",
    "df3 = df1.pow(df2)\n",
    "print(df3)"
   ]
  },
  {
   "cell_type": "code",
   "execution_count": 46,
   "metadata": {},
   "outputs": [
    {
     "name": "stdout",
     "output_type": "stream",
     "text": [
      "    A  B\n",
      "0   1  5\n",
      "1  20  6\n",
      "2   3  7\n",
      "3   4  8\n"
     ]
    }
   ],
   "source": [
    "import pandas as pd\n",
    "\n",
    "df = pd.DataFrame({'A': [1, 2, 3, 4], 'B': [5, 6, 7, 8]})\n",
    "df2 = df.replace(2, 20)\n",
    "print(df2)"
   ]
  },
  {
   "cell_type": "code",
   "execution_count": 47,
   "metadata": {},
   "outputs": [
    {
     "name": "stdout",
     "output_type": "stream",
     "text": [
      "   A  B\n",
      "1  1  6\n",
      "2  2  4\n",
      "0  3  5\n"
     ]
    }
   ],
   "source": [
    "import pandas as pd\n",
    "\n",
    "df = pd.DataFrame({'A': [3, 1, 2], 'B': [5, 6, 4]})\n",
    "df2 = df.sort_values(by=['A'])\n",
    "print(df2)"
   ]
  },
  {
   "cell_type": "code",
   "execution_count": 48,
   "metadata": {},
   "outputs": [
    {
     "name": "stdout",
     "output_type": "stream",
     "text": [
      "1.5811388300841898\n"
     ]
    }
   ],
   "source": [
    "import pandas as pd\n",
    "\n",
    "s = pd.Series([1, 2, 3, 4, 5])\n",
    "print(s.std())"
   ]
  },
  {
   "cell_type": "code",
   "execution_count": 49,
   "metadata": {},
   "outputs": [
    {
     "name": "stdout",
     "output_type": "stream",
     "text": [
      "   A  B\n",
      "0 -4 -4\n",
      "1 -4 -4\n"
     ]
    }
   ],
   "source": [
    "import pandas as pd\n",
    "\n",
    "df1 = pd.DataFrame({'A': [1, 2], 'B': [3, 4]})\n",
    "df2 = pd.DataFrame({'A': [5, 6], 'B': [7, 8]})\n",
    "df3 = df1.sub(df2)\n",
    "print(df3)\n"
   ]
  },
  {
   "cell_type": "code",
   "execution_count": 50,
   "metadata": {},
   "outputs": [
    {
     "name": "stdout",
     "output_type": "stream",
     "text": [
      "15\n"
     ]
    }
   ],
   "source": [
    "import pandas as pd\n",
    "\n",
    "s = pd.Series([1, 2, 3, 4, 5])\n",
    "print(s.sum())"
   ]
  },
  {
   "cell_type": "code",
   "execution_count": 51,
   "metadata": {},
   "outputs": [
    {
     "name": "stdout",
     "output_type": "stream",
     "text": [
      "{'A': {0: 1, 1: 2, 2: 3}, 'B': {0: 4, 1: 5, 2: 6}}\n"
     ]
    }
   ],
   "source": [
    "import pandas as pd\n",
    "\n",
    "df = pd.DataFrame({'A': [1, 2, 3], 'B': [4, 5, 6]})\n",
    "d = df.to_dict()\n",
    "print(d)"
   ]
  },
  {
   "cell_type": "code",
   "execution_count": 52,
   "metadata": {},
   "outputs": [
    {
     "name": "stdout",
     "output_type": "stream",
     "text": [
      "[1, 2, 3]\n"
     ]
    }
   ],
   "source": [
    "import pandas as pd\n",
    "\n",
    "s = pd.Series([1, 2, 3])\n",
    "l = s.tolist()\n",
    "print(l)"
   ]
  }
 ],
 "metadata": {
  "kernelspec": {
   "display_name": "Python 3",
   "language": "python",
   "name": "python3"
  },
  "language_info": {
   "codemirror_mode": {
    "name": "ipython",
    "version": 3
   },
   "file_extension": ".py",
   "mimetype": "text/x-python",
   "name": "python",
   "nbconvert_exporter": "python",
   "pygments_lexer": "ipython3",
   "version": "3.11.2"
  },
  "orig_nbformat": 4,
  "vscode": {
   "interpreter": {
    "hash": "e15515a07a5619d59fc5a3d06a5f377b63742b114075515da30e7cec5d457c99"
   }
  }
 },
 "nbformat": 4,
 "nbformat_minor": 2
}
